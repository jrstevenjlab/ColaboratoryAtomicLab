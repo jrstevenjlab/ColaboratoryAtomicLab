{
  "nbformat": 4,
  "nbformat_minor": 0,
  "metadata": {
    "colab": {
      "name": "Blackbody_PowerVsDistance",
      "version": "0.3.2",
      "provenance": [],
      "collapsed_sections": [],
      "include_colab_link": true
    },
    "kernelspec": {
      "name": "python3",
      "display_name": "Python 3"
    }
  },
  "cells": [
    {
      "cell_type": "markdown",
      "metadata": {
        "id": "view-in-github",
        "colab_type": "text"
      },
      "source": [
        "[View in Colaboratory](https://colab.research.google.com/github/jrstevenjlab/ColaboratoryAtomicLab/blob/master/Blackbody_PowerVsDistance.ipynb)"
      ]
    },
    {
      "metadata": {
        "id": "4HMW7dTiCIIg",
        "colab_type": "text"
      },
      "cell_type": "markdown",
      "source": [
        "The goal of the excercise is to fit the function \n",
        "\n",
        "$$S_{model}(x) = B + C (x - x_0)^{n}$$\n",
        "\n",
        "to data for power as a function of distance that you recorded in lab.  The parameters of the function are:\n",
        "\n",
        "*   B: a background term, the value the data would have at x=infinity,\n",
        "*   C: a scale factor which multiplies $(x-x_0)^n$, which translates the units\n",
        " from $distance^n$ to radiated power.\n",
        "*   $x_0$: maybe the filament wasn't exactly at x=0? If so, this term allows\n",
        " the fit to try and correct for that.\n",
        "*   n: the power in the power law, which we expect to be -2\n",
        "\n",
        "The function given in the lab manual is a limiting form of this more general function, where B=0 and $x_0$=0.  Here we'll treat those as parameters of the model to be determined by the fit.\n",
        "\n",
        "By \"fitting\" the data we mean that the parameters of the model are allowed to vary until the curve defined by this function best match the data you've measured.  This is done by minimizing the $\\chi^2$ which is a metric for comparing the model function to the observed data.  The $\\chi^2$ is defined as\n",
        "\n",
        "$$\\chi^{2} = \\sum_{i=0} \\frac{S_i - S_{model}(x_i)}{\\sigma_{S_{i}}}$$\n",
        "\n",
        "where the sum of $i$ is over your observed data points\n",
        "*  $S_i$ are the individual data points for the power (y-axis value), \n",
        "*  $\\sigma_{S_{i}}$ are the errors on the individual data points,\n",
        "*  and $S_{model}(x_i)$ is the value of your model function at the position $x_i$\n",
        "\n",
        "The steps below describe the process that you should follow:\n",
        "\n",
        "1.   Enter your data for power and position in the ordered lists below, replacing the example data already there.\n",
        "2.   Run the fit code by pressing the \"Play\" button, which will cause a few things to happen:\n",
        "> * Your data will be plotted as blue points in the figure below the code \n",
        "> * The `curve_fit` command in the code will find the \"best fit\" values for the paremeters of the model which gives the smallest value for the $\\chi^2$ possible (ie. it \"minimizes\" the $\\chi^2$).\n",
        "> * The function S(x) with these \"best fit\" parameters will be plotted in red overlayed with your data points\n",
        "> * The values for the parameters are output as text below the figure, along with the uncertainties on those parameters.\n",
        "\n",
        "Finally, we need evaluate the \"quality\" of our fit by looking at the $\\chi^{2}/DOF$, where DOF is the **Degrees Of Freedom** of the fit, defined as:\n",
        "\n",
        "$$DOF = # data points - # parameters$$\n",
        "\n",
        "In our case the # parameters = 4 (B, C, $x_0$, and n). and the # data points is given by the number of points you observed in lab.   In general, a \"good\" fit will have a $\\chi^{2}/DOF$ close to 1.  \n",
        "*  If $\\chi^{2}/DOF$ >> 1, then the errors were likely **underestimated** meaning the model function does not describe the data.\n",
        "*  If $\\chi^{2}/DOF$ << 1, then the errors were likely **overestimated** meaning the model describes the data better than it should (statistically).\n",
        "\n",
        "\n",
        "\n"
      ]
    },
    {
      "metadata": {
        "id": "tmFu5KTfCFwO",
        "colab_type": "code",
        "colab": {
          "base_uri": "https://localhost:8080/",
          "height": 506
        },
        "cellView": "code",
        "outputId": "5ae4b188-09cd-4c0b-8458-90f521e4b662"
      },
      "cell_type": "code",
      "source": [
        "# import modules needed for data analysis\n",
        "import numpy as np\n",
        "import matplotlib.pyplot as plt\n",
        "from scipy.optimize import curve_fit\n",
        "\n",
        "# function for power vs distance with paramters B, C, x0 and n\n",
        "def Smodel(x, B, C, x0, n):\n",
        "  return B + C * np.power(x-x0, n)\n",
        "\n",
        "##########################\n",
        "# INSERT YOUR DATA HERE! #\n",
        "##########################\n",
        "\n",
        "# enter as a list here for radiation (S) and distance (x)\n",
        "# x = distance (cm)\n",
        "x = [100,90,80,70,60,55,50,45,42,40,38,35,32,30,28,27,26,25,24,22,20,19,18,17,16.5,16,15.5,15,14,13,12,11,10,9,5]\n",
        "\n",
        "# S = converted sensor reading (W/m^2)\n",
        "S = [1.82,2.39,2.73,3.52,4.43,5.23,5.91,6.82,7.84,8.52,9.66,10.91,12.61,13.98,16.14,17.61,19.55,21.14,22.16,26.02,30.45,35,37.39,40.45,43.41,46.93,49.32,53.18,59.09,66.36,79.32,92.73,109.2,134.2,399.43]\n",
        "\n",
        "# uncertainy (error) on converted sensor reading: YOU NEED TO DETERMINE THIS!!! \n",
        "Serr_value = 2.0 # fixed uncertainty on power for all datapoints in W/m^2\n",
        "Serr = np.repeat(Serr_value, len(S)) \n",
        "\n",
        "# plot the data on a new figure\n",
        "plt.figure() # create new figure for plotting\n",
        "plt.errorbar(x, S, Serr, fmt='o', label=\"data\") # plot S vs x, where Serr is the uncertainty on your power values\n",
        "plt.axis([0, 100, 0, 500])  # set axes [xmin, xmax, Smin, Smax]\n",
        "plt.xlabel('distance (cm)') # set x-axis label\n",
        "plt.ylabel('Power/Area (W/$m^2$)') # set y-axis label \n",
        "\n",
        "# set boundary conditions for fit parameters\n",
        "initialParameters = [0,10000, 0, -2] # start with initial guess for fit parameters [B, C, x0, n]\n",
        "# upper and lower bounds on parameters\n",
        "# 0 < B < inf (background radiation must be positive)\n",
        "# 0 < C < inf (1/x^2 term in fit function must be positive)\n",
        "# 0 < x0 < inf (position offset must be positive to keep return value real)\n",
        "# -10 < n < 0  (power must be negative as S decreases with x)\n",
        "boundParameters=([0,0,0,-10],[np.inf,np.inf,np.inf,0]) \n",
        "\n",
        "# fit the data\n",
        "finalParameters, finalParameterErrors = curve_fit(Smodel, x, S, initialParameters, Serr, True) #\n",
        "\n",
        "# show red curve for fit results and plot on top of the data\n",
        "plt.plot(x, Smodel(x, *finalParameters), 'r--', label='fit: B=%5.3f, C=%5.3f, x0=%5.3f, n=%5.3f' % tuple(finalParameters))\n",
        "plt.legend()\n",
        "plt.show()\n",
        "\n",
        "# output fit parameter values and errors\n",
        "print(\"Model parameters:\")\n",
        "print(\"B   =\", finalParameters[0], \" +/- \",np.sqrt(finalParameterErrors[0,0]))\n",
        "print(\"C   =\", finalParameters[1], \" +/- \",np.sqrt(finalParameterErrors[1,1]))\n",
        "print(\"x_0 =\", finalParameters[2], \" +/- \",np.sqrt(finalParameterErrors[2,2]))\n",
        "print(\"n   =\", finalParameters[3], \" +/- \",np.sqrt(finalParameterErrors[3,3]))\n",
        "\n",
        "# compare model function with obtained parameters to data to determine fit quality\n",
        "Smodel_i = Smodel(x, *finalParameters)\n",
        "deltaS = S - Smodel_i # calculate difference between data and model\n",
        "chisq = np.sum((deltaS/Serr)**2) # calculate chi^2 by summing over difference for all data points\n",
        "dof = len(S) - len(finalParameters) # Degrees of Freedom = # data points - # parameters\n",
        "print(\"\\nFit quality:\")\n",
        "print(\"chisq =\",chisq,\"dof =\",dof)\n"
      ],
      "execution_count": 3,
      "outputs": [
        {
          "output_type": "display_data",
          "data": {
            "image/png": "[encoded data removed]",
            "text/plain": [
              "<matplotlib.figure.Figure at 0x7fbba0d03978>"
            ]
          },
          "metadata": {
            "tags": []
          }
        },
        {
          "output_type": "stream",
          "text": [
            "Model parameters:\n",
            "B   = 0.2357798703302077  +/-  1.0272759397803888\n",
            "C   = 7354.179842464551  +/-  2328.047733702933\n",
            "x_0 = 0.10195645528701772  +/-  0.4011378825485819\n",
            "n   = -1.833785842702229  +/-  0.10689643707544445\n",
            "\n",
            "Fit quality:\n",
            "chisq = 2.5537979832170645 dof = 31\n"
          ],
          "name": "stdout"
        }
      ]
    }
  ]
}