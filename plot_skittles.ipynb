{
  "nbformat": 4,
  "nbformat_minor": 0,
  "metadata": {
    "colab": {
      "name": "plot_skittles",
      "version": "0.3.2",
      "provenance": [],
      "collapsed_sections": [],
      "include_colab_link": true
    },
    "kernelspec": {
      "name": "python3",
      "display_name": "Python 3"
    }
  },
  "cells": [
    {
      "cell_type": "markdown",
      "metadata": {
        "id": "view-in-github",
        "colab_type": "text"
      },
      "source": [
        "[View in Colaboratory](https://colab.research.google.com/github/jrstevenjlab/ColaboratoryAtomicLab/blob/master/plot_skittles.ipynb)"
      ]
    },
    {
      "metadata": {
        "id": "4HMW7dTiCIIg",
        "colab_type": "text"
      },
      "cell_type": "markdown",
      "source": [
        "The goal of the excercise is to fit the function \n",
        "\n",
        "$$V_{model}(x) = a \\cdot x + b $$\n",
        "\n",
        "to your data for Skittle volume as a function of distance that you recorded in lab.  The parameters of the function are:\n",
        "\n",
        "*   a: slope of function vs. group number (expect a=0),\n",
        "*   b: Skittle volume averaged over all groups\n",
        "\n",
        "By \"fitting\" the data we mean that the parameters of the model are allowed to vary until the curve defined by this function best match the data you've measured.  This is done by minimizing the $\\chi^2$ which is a metric for comparing the model function to the observed data.  The $\\chi^2$ is defined as\n",
        "\n",
        "$$\\chi^{2} = \\sum_{i=0} \\frac{(V_i - V_{model}(x_i))^2}{\\sigma_{V_{i}}^2}$$\n",
        "\n",
        "where the sum of $i$ is over each group's data points\n",
        "*  $V_i$ are the individual group data points for Skittle volume (y-axis value), \n",
        "*  $\\sigma_{V_{i}}$ are the errors on the individual data points,\n",
        "*  and $V_{model}(x_i)$ is the value of your model function for group number $x_i$\n",
        "\n",
        "The steps below describe the process that you should follow:\n",
        "\n",
        "1.   Upload [SkittlesData.xlsx](https://blackboard.wm.edu/bbcswebdav/pid-722048-dt-content-rid-7992412_1/xid-7992412_1) to your Google Drive.\n",
        "2.   Run the fit code by pressing the \"Play\" button, which will cause a few things to happen:\n",
        "> * You will be prompted to enter an authorization code, which appears in a new browser window (be sure to allow pop-ups).  This gives the Python code access to the files in your Google Drive.\n",
        "> * The data will be plotted for all the groups in the figure below the code \n",
        "> * The `curve_fit` command in the code will find the \"best fit\" values for the paremeters of the model which gives the smallest value for the $\\chi^2$ possible (ie. it \"minimizes\" the $\\chi^2$).\n",
        "> * The function $V_{model}(x)$ with these \"best fit\" parameters will be plotted in red overlayed with your data points\n",
        "> * The values for the parameters are output as text below the figure, along with the uncertainties on those parameters.\n",
        "\n",
        "\n",
        "\n"
      ]
    },
    {
      "metadata": {
        "id": "tmFu5KTfCFwO",
        "colab_type": "code",
        "colab": {
          "base_uri": "https://localhost:8080/",
          "height": 418
        },
        "cellView": "code",
        "outputId": "0c20a872-0094-4081-8068-a7e965f3da29"
      },
      "cell_type": "code",
      "source": [
        "# import modules needed for data analysis\n",
        "import numpy as np\n",
        "import matplotlib.pyplot as plt\n",
        "from scipy.optimize import curve_fit\n",
        "\n",
        "# import modules for reading data from Google Sheets\n",
        "!pip install --upgrade -q gspread\n",
        "import gspread\n",
        "from google.colab import auth\n",
        "auth.authenticate_user()\n",
        "from oauth2client.client import GoogleCredentials\n",
        "gc = gspread.authorize(GoogleCredentials.get_application_default())\n",
        "\n",
        "# function for skittle volume vs group number with paramters a and b\n",
        "def VolumeModel(x, a, b):\n",
        "  return a * np.float_(x) + b\n",
        "\n",
        "########################\n",
        "# LOAD YOUR DATA HERE! #\n",
        "########################\n",
        "\n",
        "# Open our new sheet and read some data.  Upload the file to Google Drive main folder for access\n",
        "worksheet = gc.open(\"SkittlesData\").sheet1\n",
        "\n",
        "# Wednesday afternoon data\n",
        "xw=worksheet.col_values(1,'UNFORMATTED_VALUE')[1:] # first column is group number (x-axis variable)\n",
        "yw=worksheet.col_values(2,'UNFORMATTED_VALUE')[1:] # second column is average volume (y-axis variable)\n",
        "eyw=worksheet.col_values(3,'UNFORMATTED_VALUE')[1:] # thrid column is averge volume std. dev. (y-axis error)\n",
        "\n",
        "# Thursday morning data\n",
        "worksheet = gc.open(\"SkittlesData\").get_worksheet(1)\n",
        "xt_morn=worksheet.col_values(1,'UNFORMATTED_VALUE')[1:] # first column is group number (x-axis variable)\n",
        "yt_morn=worksheet.col_values(2,'UNFORMATTED_VALUE')[1:] # second column is average volume (y-axis variable)\n",
        "eyt_morn=worksheet.col_values(3,'UNFORMATTED_VALUE')[1:] # thrid column is averge volume std. dev. (y-axis error)\n",
        "\n",
        "# Thursday morning data\n",
        "worksheet = gc.open(\"SkittlesData\").get_worksheet(2)\n",
        "xt_aftn=worksheet.col_values(1,'UNFORMATTED_VALUE')[1:] # first column is group number (x-axis variable)\n",
        "yt_aftn=worksheet.col_values(2,'UNFORMATTED_VALUE')[1:] # second column is average volume (y-axis variable)\n",
        "eyt_aftn=worksheet.col_values(3,'UNFORMATTED_VALUE')[1:] # thrid column is averge volume std. dev. (y-axis error)\n",
        "\n",
        "# plot the data on a new figure\n",
        "plt.figure() # create new figure for plotting\n",
        "plt.errorbar(xw, yw, eyw, fmt='or', label=\"WednesdayPM\") # plot volume vs group number, where eyw is the uncertainty on your volume values\n",
        "plt.errorbar(xt_morn, yt_morn, eyt_morn, fmt='ok', label=\"ThursdayAM\")\n",
        "plt.errorbar(xt_aftn, yt_aftn, eyt_aftn, fmt='ob', label=\"ThursdayPM\")\n",
        "plt.axis([0, 10, 0, 1.6])  # set axes [xmin, xmax, Smin, Smax]\n",
        "plt.xlabel('group number') # set x-axis label\n",
        "plt.ylabel('skittle volume $\\pm 1\\sigma$ (cm$^3$)') # set y-axis label \n",
        "\n",
        "# fit the data\n",
        "initialParameters = [0.75,0] # start with initial guess for fit parameters [a, b]\n",
        "finalParameters, finalParameterErrors = curve_fit(VolumeModel, xw, yw, initialParameters, eyw, True) #\n",
        "\n",
        "# show red curve for fit results and plot on top of the data\n",
        "plt.plot(xw, VolumeModel(xw, *finalParameters), 'r--', label='fit: a=%5.3f, b=%5.3f' % tuple(finalParameters))\n",
        "plt.legend()\n",
        "plt.show()\n",
        "\n",
        "# output fit parameter values and errors\n",
        "print(\"Model parameters:\")\n",
        "print(\"a   =\", finalParameters[0], \" +/- \",np.sqrt(finalParameterErrors[0,0]))\n",
        "print(\"b   =\", finalParameters[1], \" +/- \",np.sqrt(finalParameterErrors[1,1]))\n",
        "\n"
      ],
      "execution_count": 8,
      "outputs": [
        {
          "output_type": "display_data",
          "data": {
            "image/png": "[encoded data removed]",
            "text/plain": [
              "<matplotlib.figure.Figure at 0x7f7d0a4896a0>"
            ]
          },
          "metadata": {
            "tags": []
          }
        },
        {
          "output_type": "stream",
          "text": [
            "Model parameters:\n",
            "a   = -0.0005192728405739588  +/-  0.004934586560664912\n",
            "b   = 0.7674083199433925  +/-  0.013079877826036444\n"
          ],
          "name": "stdout"
        }
      ]
    }
  ]
}