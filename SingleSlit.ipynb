{
  "nbformat": 4,
  "nbformat_minor": 0,
  "metadata": {
    "colab": {
      "name": "SingleSlit",
      "version": "0.3.2",
      "provenance": [],
      "collapsed_sections": [],
      "include_colab_link": true
    },
    "kernelspec": {
      "name": "python3",
      "display_name": "Python 3"
    }
  },
  "cells": [
    {
      "cell_type": "markdown",
      "metadata": {
        "id": "view-in-github",
        "colab_type": "text"
      },
      "source": [
        "<a href=\"https://colab.research.google.com/github/jrstevenjlab/ColaboratoryAtomicLab/blob/master/SingleSlit.ipynb\" target=\"_parent\"><img src=\"https://colab.research.google.com/assets/colab-badge.svg\" alt=\"Open In Colab\"/></a>"
      ]
    },
    {
      "metadata": {
        "id": "4HMW7dTiCIIg",
        "colab_type": "text"
      },
      "cell_type": "markdown",
      "source": [
        "The goal of the excercise is to fit the function \n",
        "\n",
        "$$I(x) = B + I_0 \\frac{(\\sin (\\frac{\\pi a}{\\lambda}\\frac{x-x_0}{\\ell}))^2}{(\\frac{\\pi\n",
        "a}{\\lambda}\\frac{x-x_0}{\\ell})^2}$$\n",
        "\n",
        "to your data for intensity as a function of position of the slit that you recorded in lab.  The parameters of the function are:\n",
        "\n",
        "*   $\\lambda$: wavelength of light source (670 nm for laser and 546 nm for bulb)\n",
        "*   $\\ell$: distance between double slit and viewing screen (you should have measured this)\n",
        "*   B: background \"pedestal\" for laser data or \"dark rate\" for bulb data,\n",
        "*   $I_0$: Intensity magnitude \n",
        "*   a: slit width distance\n",
        "*   $x_0$: position of maximum intensity\n",
        "\n",
        "By \"fitting\" the data we mean that the parameters of the model are allowed to vary until the curve defined by this function best match the data you've measured.  This is done by minimizing the $\\chi^2$ which is a metric for comparing the model function to the observed data.  The $\\chi^2$ is defined as\n",
        "\n",
        "$$\\chi^{2} = \\sum_{i=0} \\frac{(I_i - I_{model}(x_i))^2}{\\sigma_{I_{i}}^2}$$\n",
        "\n",
        "where the sum of $i$ is over all the data points\n",
        "*  $I_i$ are the individual intensity datapoints for a given position (y-axis value), \n",
        "*  $\\sigma_{I_{i}}$ are the errors on the individual datapoints,\n",
        "*  and $I_{model}(x_i)$ is the value of your model function for slit position $x_i$\n",
        "\n",
        "The steps below describe the process that you should follow:\n",
        "\n",
        "1.   Save your data to Google Drive in a file named DoubleSlitAll.  See example at [SingleSlitAll](https://docs.google.com/spreadsheets/d/1sVFujyO_ZW5sRZdgi-TraCwTuuZDrfRTSn5TwbxSa68/edit?usp=sharing)\n",
        "2.   Run the fit code by pressing the \"Play\" button, which will cause a few things to happen:\n",
        "> * You will be prompted to enter an authorization code, which appears in a new browser window (be sure to allow pop-ups).  This gives the Python code access to the files in your Google Drive.\n",
        "> * All the data points will be plotted in the figure below the code \n",
        "> * The `curve_fit` command in the code will find the \"best fit\" values for the paremeters of the model which gives the smallest value for the $\\chi^2$ possible (ie. it \"minimizes\" the $\\chi^2$).\n",
        "> * The function $I_{model}(x)$ with these \"best fit\" parameters will be plotted in red overlayed with your data points\n",
        "> * The values for the parameters are output as text below the figure, along with the uncertainties on those parameters\n",
        "> * The $\\chi^2$ and # DOF will also be output to determine the quality of the fit\n",
        "3.   To switch between the laser (Photodiode) data and the bulb (PMT) data you need to make a few modifications:\n",
        "> * Set the wavelength ($\\lambda$) to the appropriate value for your data by commenting/ucommenting a line\n",
        "> * Set y = ybulb and ey = eybulb (or vice versa) to use a given dataset under 'CHOOSE YOUR DATA HERE!'\n",
        "> * Set the initial parameters of your fit for B and $I_0$ (the first 2 parameters in the list) to match the scale of the y-axis for your datapoints, and set $x_0$ to match the position of the maximum intensity\n",
        "> * Change axes labels appropriately\n",
        "\n",
        "Finally, we need evaluate the \"quality\" of our fit by looking at the $\\chi^{2}/DOF$, where DOF is the **Degrees Of Freedom** of the fit, defined as:\n",
        "\n",
        "$$DOF = # data points - # parameters$$\n",
        "\n",
        "In our case the # parameters = 4 (B, $I_0$, a, $x_0$). and the # data points is given by the number of points you observed in lab.   In general, a \"good\" fit will have a $\\chi^{2}/DOF$ close to 1.  \n",
        "*  If $\\chi^{2}/DOF$ >> 1, then the errors were likely **underestimated** meaning the model function does not describe the data.\n",
        "*  If $\\chi^{2}/DOF$ << 1, then the errors were likely **overestimated** meaning the model describes the data better than it should (statistically)."
      ]
    },
    {
      "metadata": {
        "id": "tmFu5KTfCFwO",
        "colab_type": "code",
        "cellView": "code",
        "outputId": "e18767f3-0215-42a5-9f00-24f6fafd3b32",
        "colab": {
          "base_uri": "https://localhost:8080/",
          "height": 501
        }
      },
      "cell_type": "code",
      "source": [
        "# import modules needed for data analysis\n",
        "import numpy as np\n",
        "import matplotlib.pyplot as plt\n",
        "from scipy.optimize import curve_fit\n",
        "\n",
        "# import modules for reading data from Google Sheets\n",
        "!pip install --upgrade -q gspread\n",
        "import gspread\n",
        "from google.colab import auth\n",
        "auth.authenticate_user()\n",
        "from oauth2client.client import GoogleCredentials\n",
        "gc = gspread.authorize(GoogleCredentials.get_application_default())\n",
        "\n",
        "# function for detected intensity vs position\n",
        "def IntensityModel(x, B, I0, A, x0):\n",
        "  L=500 # distance between slits in (mm)\n",
        "  #l=546e-6 # green bulb wavelength (mm)\n",
        "  l=670e-6 # laser wavelength (mm)\n",
        "  C=np.pi/(l*L)\n",
        "  return B + I0 * np.power(np.sin(C*A*(x-x0))+1e-9,2.0) / np.power((C*A*(x-x0))+1e-9,2.0)\n",
        "\n",
        "########################\n",
        "# LOAD YOUR DATA HERE! #\n",
        "########################\n",
        "\n",
        "# Open our new sheet and read some data.  Upload the file to Google Drive main folder for access\n",
        "worksheet = gc.open(\"SingleSlitAll\").sheet1\n",
        "\n",
        "# Wednesday afternoon data\n",
        "x=worksheet.col_values(1,'UNFORMATTED_VALUE')[1:] # first column is position (x-axis variable)\n",
        "ylaser=worksheet.col_values(2,'UNFORMATTED_VALUE')[1:] # second column is laser data (y-axis variable)\n",
        "ybulb=worksheet.col_values(3,'UNFORMATTED_VALUE')[1:] # thrid column is bulb data (y-axis variable)\n",
        "\n",
        "# check that data from spreadsheet is in the right format\n",
        "#print(x)\n",
        "#print(ylaser)\n",
        "#print(ybulb)\n",
        "\n",
        "eylaser_value = 0.003 # set this value to what you determined for errors in lab\n",
        "eylaser = np.repeat(eylaser_value, len(ylaser)) \n",
        "eybulb = np.sqrt(ybulb)\n",
        "\n",
        "# replace laser with bulb below to switch from 2 different columns of data\n",
        "y = ylaser\n",
        "ey = eylaser\n",
        "\n",
        "# plot the data on a new figure\n",
        "plt.figure() # create new figure for plotting\n",
        "plt.errorbar(x, y, ey, fmt='or', label=\"Laser\") # plot intensity vs position\n",
        "plt.axis([1.5, 7.5, 0, 0.5])  # set axes [xmin, xmax, ymin, ymax]\n",
        "plt.xlabel('Slit position (mm)') # set x-axis label\n",
        "plt.ylabel('Photodiode intensity (mV)') # set y-axis label \n",
        "\n",
        "################################\n",
        "# SET INITIAL PARAMETERS HERE! #\n",
        "################################\n",
        "initialParameters = [0.01,1.200,0.085,4.78] # start with initial guess for fit parameters (B, I0, A, x0)\n",
        "\n",
        "# fit the data\n",
        "finalParameters, finalParameterErrors = curve_fit(IntensityModel, x, y, initialParameters, ey, True)\n",
        "\n",
        "# show red curve for fit results and plot on top of the data\n",
        "plt.plot(x, IntensityModel(x, *finalParameters), 'r--', label='fit: B=%5.3f, I0=%5.3f, A=%5.3f, x0=%5.3f' % tuple(finalParameters)) #\n",
        "plt.legend()\n",
        "plt.show()\n",
        "\n",
        "# output fit parameter values and errors\n",
        "print(\"Model parameters:\")\n",
        "print(\"B   =\", finalParameters[0], \" +/- \",np.sqrt(finalParameterErrors[0,0]))\n",
        "print(\"I0  =\", finalParameters[1], \" +/- \",np.sqrt(finalParameterErrors[1,1]))\n",
        "print(\"A   =\", finalParameters[2], \" +/- \",np.sqrt(finalParameterErrors[2,2]))\n",
        "print(\"x0  =\", finalParameters[3], \" +/- \",np.sqrt(finalParameterErrors[3,3]))\n",
        "\n",
        "# compare model function with obtained parameters to data to determine fit quality\n",
        "IntensityModel_i = IntensityModel(x, *finalParameters)\n",
        "deltaIntensity = y - IntensityModel_i # calculate difference between data and model\n",
        "chisq = np.sum((deltaIntensity/ey)**2) # calculate chi^2 by summing over difference for all data points\n",
        "dof = len(x) - len(finalParameters) # Degrees of Freedom = # data points - # parameters\n",
        "print(\"\\nFit quality:\")\n",
        "print(\"chisq =\",chisq,\"dof =\",dof)"
      ],
      "execution_count": 1,
      "outputs": [
        {
          "output_type": "display_data",
          "data": {
            "image/png": "[encoded data removed]",
            "text/plain": [
              "<matplotlib.figure.Figure at 0x7f4f172a3e10>"
            ]
          },
          "metadata": {
            "tags": []
          }
        },
        {
          "output_type": "stream",
          "text": [
            "Model parameters:\n",
            "B   = 0.0032441429572773943  +/-  0.0014555445121071959\n",
            "I0  = 0.25355917417189805  +/-  0.001423274049392798\n",
            "A   = 0.0950767095260358  +/-  0.0006433013710922458\n",
            "x0  = 4.6637376210895205  +/-  0.004377824299357149\n",
            "\n",
            "Fit quality:\n",
            "chisq = 35.98638180123515 dof = 58\n"
          ],
          "name": "stdout"
        }
      ]
    }
  ]
}