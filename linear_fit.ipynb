{
  "nbformat": 4,
  "nbformat_minor": 0,
  "metadata": {
    "colab": {
      "name": "linear_fit",
      "version": "0.3.2",
      "provenance": [],
      "collapsed_sections": [],
      "include_colab_link": true
    },
    "kernelspec": {
      "name": "python3",
      "display_name": "Python 3"
    }
  },
  "cells": [
    {
      "cell_type": "markdown",
      "metadata": {
        "id": "view-in-github",
        "colab_type": "text"
      },
      "source": [
        "[View in Colaboratory](https://colab.research.google.com/github/jrstevenjlab/ColaboratoryAtomicLab/blob/master/linear_fit.ipynb)"
      ]
    },
    {
      "metadata": {
        "id": "4HMW7dTiCIIg",
        "colab_type": "text"
      },
      "cell_type": "markdown",
      "source": [
        "The goal of the excercise is to fit a linear function \n",
        "\n",
        "$$y(x) = m \\cdot x + b $$\n",
        "\n",
        "to an arbitrary dataset.  The parameters of the function are:\n",
        "\n",
        "*   m: slope of function ,\n",
        "*   b: y-intercept\n",
        "\n",
        "By \"fitting\" the data we mean that the parameters of the model are allowed to vary until the curve defined by this function best match the data you've measured.  This is done by minimizing the $\\chi^2$ which is a metric for comparing the model function to the observed data.  The $\\chi^2$ is defined as\n",
        "\n",
        "$$\\chi^{2} = \\sum_{i=0} \\frac{(y_i - y(x_i))^2}{\\sigma_{y_{i}}^2}$$\n",
        "\n",
        "where the sum of $i$ are all your data points\n",
        "*  $y_i$ are the individual data points for your observation (y-axis value), \n",
        "*  $\\sigma_{y_{i}}$ are the errors on the individual data points,\n",
        "*  and $y_{model}(x_i)$ is the value of the linear model function at the value $x_i$ on the x-axis\n",
        "\n",
        "The steps below describe the process that you should follow:\n",
        "\n",
        "1.   Enter your data for y and x in the ordered lists below, replacing the example data already there.\n",
        "2.   Run the fit code by pressing the \"Play\" button, which will cause a few things to happen:\n",
        "> * Your data will be plotted as blue points in the figure below the code \n",
        "> * The `curve_fit` command in the code will find the \"best fit\" values for the paremeters of the model which gives the smallest value for the $\\chi^2$ possible (ie. it \"minimizes\" the $\\chi^2$).\n",
        "> * The function y(x) with these \"best fit\" parameters will be plotted in red overlayed with your data points\n",
        "> * The values for the parameters are output as text below the figure, along with the uncertainties on those parameters.\n",
        "\n",
        "Finally, we need evaluate the \"quality\" of our fit by looking at the $\\chi^{2}/DOF$, where DOF is the **Degrees Of Freedom** of the fit, defined as:\n",
        "\n",
        "$$DOF = # data points - # parameters$$\n",
        "\n",
        "In our case the # parameters = 2 (m, b). and the # data points is given by the number of points you observed in lab.   In general, a \"good\" fit will have a $\\chi^{2}/DOF$ close to 1.  \n",
        "*  If $\\chi^{2}/DOF$ >> 1, then the errors were likely **underestimated** meaning the model function does not describe the data.\n",
        "*  If $\\chi^{2}/DOF$ << 1, then the errors were likely **overestimated** meaning the model describes the data better than it should (statistically)."
      ]
    },
    {
      "metadata": {
        "id": "tmFu5KTfCFwO",
        "colab_type": "code",
        "colab": {
          "base_uri": "https://localhost:8080/",
          "height": 471
        },
        "cellView": "code",
        "outputId": "7d13b6f9-35b1-4780-8567-49e92e1fa9e8"
      },
      "cell_type": "code",
      "source": [
        "# import modules needed for data analysis\n",
        "import numpy as np\n",
        "import matplotlib.pyplot as plt\n",
        "from scipy.optimize import curve_fit\n",
        "\n",
        "# linear function with paramters a and b\n",
        "def yModel(x, m, b):\n",
        "  return m * np.float_(x) + b\n",
        "\n",
        "# enter your x-axis data here\n",
        "x = [242.5, 279.7, 300.6, 336.5]\n",
        "\n",
        "# enter your y-axis data here\n",
        "y = [2.145, 2.724, 2.694, 3.148]\n",
        "\n",
        "# enter your y-axis errors here\n",
        "ey = [0.2, 0.2, 0.2, 0.2]\n",
        "\n",
        "# plot the data on a new figure\n",
        "plt.figure() # create new figure for plotting\n",
        "plt.errorbar(x, y, ey, fmt='or', label=\"DataLabel\") # plot y vs x\n",
        "plt.axis([200, 400, 0.0, 4.0])  # set axes limits [xmin, xmax, ymin, ymax]\n",
        "plt.xlabel('set your x-axis label') # set x-axis label\n",
        "plt.ylabel('set your y-axis label') # set y-axis label \n",
        "\n",
        "# fit the data\n",
        "initialParameters = [0.1,0] # start with initial guess for fit parameters [m, b]\n",
        "finalParameters, finalParameterErrors = curve_fit(yModel, x, y, initialParameters, ey, True) #\n",
        "\n",
        "# show red curve for fit results and plot on top of the data\n",
        "plt.plot(x, yModel(x, *finalParameters), 'r--', label='fit: m=%5.3f, b=%5.3f' % tuple(finalParameters))\n",
        "plt.legend()\n",
        "plt.show()\n",
        "\n",
        "# output fit parameter values and errors\n",
        "print(\"Model parameters:\")\n",
        "print(\"m   =\", finalParameters[0], \" +/- \",np.sqrt(finalParameterErrors[0,0]))\n",
        "print(\"b   =\", finalParameters[1], \" +/- \",np.sqrt(finalParameterErrors[1,1]))\n",
        "\n",
        "# compare model function with obtained parameters to data to determine fit quality\n",
        "yModel_i = yModel(x, *finalParameters)\n",
        "deltay = y - yModel_i # calculate difference between data and model\n",
        "chisq = np.sum((deltay/ey)**2) # calculate chi^2 by summing over difference for all data points\n",
        "dof = len(y) - len(finalParameters) # Degrees of Freedom = # data points - # parameters\n",
        "print(\"\\nFit quality:\")\n",
        "print(\"chisq =\",chisq,\"dof =\",dof)\n",
        "\n"
      ],
      "execution_count": 1,
      "outputs": [
        {
          "output_type": "display_data",
          "data": {
            "image/png": "[encoded data removed]",
            "text/plain": [
              "<matplotlib.figure.Figure at 0x7f69d2d80b70>"
            ]
          },
          "metadata": {
            "tags": []
          }
        },
        {
          "output_type": "stream",
          "text": [
            "Model parameters:\n",
            "m   = 0.01010780005206938  +/-  0.0029371053365739703\n",
            "b   = -0.25174315009099957  +/-  0.8571001073960356\n",
            "\n",
            "Fit quality:\n",
            "chisq = 0.8406779042621318 dof = 2\n"
          ],
          "name": "stdout"
        }
      ]
    }
  ]
}